{
 "cells": [
  {
   "cell_type": "code",
   "execution_count": 2,
   "metadata": {},
   "outputs": [],
   "source": [
    "import shutil\n",
    "import os\n",
    "import glob"
   ]
  },
  {
   "cell_type": "code",
   "execution_count": 16,
   "metadata": {},
   "outputs": [
    {
     "name": "stdout",
     "output_type": "stream",
     "text": [
      "stats\n",
      "['uefa_atck_transfer_values_raw.csv', 'uefa_def_transfer_values_raw.csv', 'uefa_gkp_transfer_values_raw.csv', 'uefa_mid_transfer_values_raw.csv']\n",
      "uefa_atck_transfer_values_raw.csv moved to raw_data/transfer_value_data_raw\n",
      "uefa_def_transfer_values_raw.csv moved to raw_data/transfer_value_data_raw\n",
      "uefa_gkp_transfer_values_raw.csv moved to raw_data/transfer_value_data_raw\n",
      "uefa_mid_transfer_values_raw.csv moved to raw_data/transfer_value_data_raw\n",
      "keeper\n",
      "[]\n",
      "shooting\n",
      "[]\n",
      "misc\n",
      "[]\n",
      "passing\n",
      "[]\n",
      "defense\n",
      "[]\n",
      "nation\n",
      "[]\n",
      "club\n",
      "[]\n",
      "values\n",
      "[]\n",
      "comps\n",
      "[]\n"
     ]
    }
   ],
   "source": [
    "# Moving Player data generated in 'scrapying_player_data.ipynb into structured folders\n",
    "\n",
    "keywords = ['stats', 'keeper', 'shooting', 'misc', 'passing', 'defense', 'nation', 'club', 'value', 'comps']\n",
    "\n",
    "for keyword in keywords:\n",
    "\n",
    "    csv_files = glob.glob(f'**.csv')\n",
    "    print(csv_files)\n",
    "\n",
    "    for file in csv_files:\n",
    "\n",
    "        if 'Player' in file:\n",
    "            destination_folder = f'raw_data/player_raw_data/player_{keyword}_data_raw'\n",
    "            shutil.move(file, os.path.join(destination_folder,file))\n",
    "            print(f'{file} moved to {destination_folder}')\n",
    "\n",
    "        elif 'Team' in file:\n",
    "            destination_folder = f'raw_data/team_raw_data/team_{keyword}_data_raw'\n",
    "            shutil.move(file, os.path.join(destination_folder,file))\n",
    "            print(f'{file} moved to {destination_folder}')\n",
    "\n",
    "        elif 'comps' in file:\n",
    "\n",
    "            destination_folder = f'raw_data/competitions_raw_data'\n",
    "            shutil.move(file, os.path.join(destination_folder,file))\n",
    "            print(f'{file} moved to {destination_folder}')\n",
    "    \n",
    "        elif 'nation' in file:\n",
    "\n",
    "            destination_folder = f'raw_data/{keyword}_raw_data'\n",
    "            shutil.move(file, os.path.join(destination_folder,file))\n",
    "            print(f'{file} moved to {destination_folder}')\n",
    "\n",
    "        elif 'club' in file:\n",
    "            destination_folder = f'raw_data/{keyword}_raw_data'\n",
    "            shutil.move(file, os.path.join(destination_folder,file))\n",
    "            print(f'{file} moved to {destination_folder}')\n",
    "\n",
    "        elif 'value' in file:\n",
    "            destination_folder = f'raw_data/transfer_{keyword}_data_raw'\n",
    "            shutil.move(file, os.path.join(destination_folder,file))\n",
    "            print(f'{file} moved to {destination_folder}')\n",
    "\n",
    "\n",
    "        else:\n",
    "            print(f'{file}: Does not match the moving criteria')\n"
   ]
  }
 ],
 "metadata": {
  "kernelspec": {
   "display_name": "venv",
   "language": "python",
   "name": "python3"
  },
  "language_info": {
   "codemirror_mode": {
    "name": "ipython",
    "version": 3
   },
   "file_extension": ".py",
   "mimetype": "text/x-python",
   "name": "python",
   "nbconvert_exporter": "python",
   "pygments_lexer": "ipython3",
   "version": "3.12.6"
  }
 },
 "nbformat": 4,
 "nbformat_minor": 2
}
