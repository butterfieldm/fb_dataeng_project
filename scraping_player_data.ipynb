{
 "cells": [
  {
   "cell_type": "code",
   "execution_count": 1,
   "metadata": {},
   "outputs": [],
   "source": [
    "import pandas as pd\n",
    "from bs4 import BeautifulSoup\n",
    "from selenium import webdriver\n",
    "from selenium.webdriver.common.by import By\n",
    "from selenium.webdriver.chrome.service import Service\n",
    "from selenium.webdriver.chrome.options import Options\n",
    "from webdriver_manager.chrome import ChromeDriverManager\n",
    "import csv\n",
    "import re"
   ]
  },
  {
   "cell_type": "code",
   "execution_count": 2,
   "metadata": {},
   "outputs": [],
   "source": [
    "# Dictionary for the raw data, the key is the wbesite containing the raw data and the key is the ID relating to the table required on the web page\n",
    "raw_data_dict = {'https://fbref.com/en/comps/8/2023-2024/stats/2023-2024-Champions-League-Stats': {'id': 'stats_standard'}, \n",
    "                 'https://fbref.com/en/comps/8/2023-2024/defense/2023-2024-Champions-League-Stats': {'id': 'stats_defense'},\n",
    "                 'https://fbref.com/en/comps/8/2023-2024/misc/2023-2024-Champions-League-Stats': {'id': 'stats_misc'},\n",
    "                 'https://fbref.com/en/comps/8/2023-2024/shooting/2023-2024-Champions-League-Stats': {'id': 'stats_shooting'},\n",
    "                 'https://fbref.com/en/comps/8/2023-2024/gca/2023-2024-Champions-League-Stats': {'id': 'stats_gca'},\n",
    "                 'https://fbref.com/en/comps/8/2023-2024/passing/2023-2024-Champions-League-Stats': {'id': 'stats_passing'},\n",
    "                 'https://fbref.com/en/comps/8/2023-2024/passing_types/2023-2024-Champions-League-Stats': {'id': 'stats_passing_types'},\n",
    "                 'https://fbref.com/en/comps/8/2023-2024/keepers/2023-2024-Champions-League-Stats': {'id': 'stats_keeper'},\n",
    "                 'https://fbref.com/en/comps/8/2023-2024/possession/2023-2024-Champions-League-Stats': {'id': 'stats_possession'}\n",
    "                 }\n"
   ]
  },
  {
   "cell_type": "code",
   "execution_count": 3,
   "metadata": {},
   "outputs": [
    {
     "name": "stdout",
     "output_type": "stream",
     "text": [
      "https://fbref.com/en/comps/8/2023-2024/stats/2023-2024-Champions-League-Stats {'id': 'stats_standard'}\n"
     ]
    }
   ],
   "source": [
    "# Set up Selenium options\n",
    "options = Options()\n",
    "options.headless = True  # Run in headless mode (no GUI)\n",
    "service = Service(ChromeDriverManager().install())\n",
    "\n",
    "# Initialize the WebDriver\n",
    "driver = webdriver.Chrome(service=service, options=options)\n",
    "\n",
    "# Fetch the webpages\n",
    "for page, class_id in raw_data_dict.items():\n",
    "    print(page, class_id)\n",
    "    driver.get(page)\n",
    "\n",
    "    # Get the page source after JavaScript has rendered\n",
    "    html = driver.page_source\n",
    "\n",
    "    # Parse the HTML content with BeautifulSoup\n",
    "    soup = BeautifulSoup(html, 'html.parser')\n",
    "\n",
    "    # Find the table with the specified class\n",
    "    table = soup.find('table', class_id)\n",
    "\n",
    "    # Extract the data from the table\n",
    "    if table:\n",
    "\n",
    "        # Extract column headers with aria-label\n",
    "        headers = table.find_all('th')\n",
    "        header_labels = [header.get('aria-label', header.text).strip() for header in headers if header.get('aria-label', header.text).strip()]\n",
    "\n",
    "        if '/stats/' in page:\n",
    "            header_labels[35] = 'npxG + xAG/90'\n",
    "\n",
    "        # Use a set to remove duplicates, required due to multiple headers in the table across the web page\n",
    "        unique_header_labels = list(set(header_labels))\n",
    "\n",
    "        # Sort the list to maintain the original order\n",
    "        unique_header_labels.sort(key=header_labels.index)\n",
    "\n",
    "        # Removing unwanted blank fields scraped incorrectly\n",
    "        filtered_lst = [header for header in unique_header_labels if not (header.isdigit())][1:]\n",
    "\n",
    "\n",
    "        rows = table.find_all('tr')\n",
    "        data = []\n",
    "        for row in rows:\n",
    "            columns = row.find_all('td')\n",
    "            row_data = [column.text for column in columns]\n",
    "            data.append(row_data)\n",
    "\n",
    "        # Creating output csv name\n",
    "        def create_filename(url):\n",
    "            # Extract the relevant parts of the URL\n",
    "            match = re.search(r'/(\\d{4}-\\d{4})/([^/]+)/(\\d{4}-\\d{4}-[^/]+)', url)\n",
    "            if match:\n",
    "                season = match.group(1).replace('-', '_')\n",
    "                category = match.group(2)\n",
    "                stats = match.group(3).replace('-', '_')\n",
    "                # Format the filename\n",
    "                filename = f\"{stats}_{category}.csv\"\n",
    "                return filename\n",
    "            else:\n",
    "                return None\n",
    "            \n",
    "        csv_name = create_filename(page)\n",
    "\n",
    "        # Write data to CSV\n",
    "        with open(csv_name, 'w', newline='', encoding='utf-8') as file:\n",
    "            writer = csv.writer(file)\n",
    "            # Write header labels first\n",
    "            writer.writerow(filtered_lst)\n",
    "            # Write the rest of the data\n",
    "            writer.writerows(data)\n",
    "\n",
    "    else:\n",
    "        print(\"Table not found\")\n",
    "\n",
    "# Close the WebDriver\n",
    "driver.quit()"
   ]
  }
 ],
 "metadata": {
  "kernelspec": {
   "display_name": "venv",
   "language": "python",
   "name": "python3"
  },
  "language_info": {
   "codemirror_mode": {
    "name": "ipython",
    "version": 3
   },
   "file_extension": ".py",
   "mimetype": "text/x-python",
   "name": "python",
   "nbconvert_exporter": "python",
   "pygments_lexer": "ipython3",
   "version": "3.12.6"
  }
 },
 "nbformat": 4,
 "nbformat_minor": 2
}
